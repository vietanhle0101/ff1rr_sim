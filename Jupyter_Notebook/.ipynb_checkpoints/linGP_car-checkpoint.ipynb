{
 "cells": [
  {
   "cell_type": "code",
   "execution_count": 34,
   "metadata": {},
   "outputs": [],
   "source": [
    "import numpy as np\n",
    "import matplotlib.pyplot as plt\n",
    "import numpy as np\n",
    "from scipy.integrate import odeint\n",
    "import csv\n",
    "import sys\n",
    "sys.path.append(r\"C:\\Users\\vl385\\Documents\\casadi-windows-py37-v3.5.1\")\n",
    "from casadi import *\n",
    "import GPy\n",
    "import pickle\n",
    "import numpy.linalg as LA\n",
    "from numpy import genfromtxt\n",
    "import time"
   ]
  },
  {
   "cell_type": "code",
   "execution_count": 35,
   "metadata": {},
   "outputs": [],
   "source": [
    "from numba import jitclass          # import the decorator\n",
    "from numba import int32, float32, double    # import the types\n",
    "\n",
    "spec = [\n",
    "    ('rbf_variance', float32),\n",
    "    ('rbf_lengthscale', double[:]),\n",
    "    ('noise_variance', float32),\n",
    "    ('X', double[:, :]),\n",
    "    ('Y', double[:, :]),\n",
    "    ('Z', double[:, :]),\n",
    "    ('N', int32),\n",
    "    ('N_ind', int32),\n",
    "    ('n', int32),\n",
    "    ('lambda_inv', double[:, :]),\n",
    "    ('K_NZ', double[:, :]),\n",
    "    ('K_ZZ', double[:, :]),  \n",
    "]"
   ]
  },
  {
   "cell_type": "code",
   "execution_count": 36,
   "metadata": {},
   "outputs": [],
   "source": [
    "class linsparse_GP:\n",
    "    def __init__(self, model):\n",
    "        # Initialize by GPy model or by dictionary containing all information\n",
    "        if type(model) == dict:\n",
    "            self.rbf_variance = model[\"rbf_variance\"]\n",
    "            self.rbf_lengthscale = model[\"rbf_lengthscale\"]\n",
    "            self.noise_variance = model[\"noise_variance\"]\n",
    "            self.X = model[\"X_train\"]\n",
    "            self.Y = model[\"Y_train\"]\n",
    "            self.Z = model[\"X_ind\"]\n",
    "            \n",
    "        self.N = len(self.Y)\n",
    "        self.N_ind = len(self.Z)\n",
    "        self.n = np.shape(self.X)[1]\n",
    "        self.lambda_inv = np.diag(1/self.rbf_lengthscale**2)\n",
    "        self.Sigma_inverse()\n",
    "        \n",
    "    def Sigma_inverse(self):\n",
    "        # Pre-compute (K_N + sigma^2*I)^-1        \n",
    "        self.K_NZ = np.empty((self.N, self.N_ind)) \n",
    "        self.K_ZZ = np.empty((self.N_ind, self.N_ind))  \n",
    "        K_NN = np.empty((self.N, self.N))\n",
    "        for i in range(self.N):\n",
    "            for j in range(self.N_ind):\n",
    "                self.K_NZ[i,j] = self.se_kernel(self.X[i,:], self.Z[j,:])\n",
    "        for i in range(self.N_ind):\n",
    "            for j in range(self.N_ind):\n",
    "                self.K_ZZ[i,j] = self.se_kernel(self.Z[i,:], self.Z[j,:])\n",
    "        for i in range(self.N):\n",
    "            for j in range(self.N):\n",
    "                K_NN[i,j] = self.se_kernel(self.X[i,:], self.X[j,:])\n",
    "           \n",
    "        self.K_ZN = self.K_NZ.transpose()\n",
    "        Q_NN = LA.multi_dot([self.K_NZ, LA.inv(self.K_ZZ), self.K_ZN])\n",
    "        LAMBDA = np.diag(np.diag(K_NN - Q_NN + self.noise_variance**2*np.eye(self.N)))\n",
    "        self.Sigma_inv = LA.inv(Q_NN + LAMBDA)\n",
    "        self.alpha = LA.multi_dot([LA.inv(self.K_ZZ), self.K_ZN, self.Sigma_inv, self.Y]) \n",
    "        self.beta = LA.multi_dot([LA.inv(self.K_ZZ), self.K_ZN, self.Sigma_inv, \\\n",
    "                                  self.K_ZN.transpose(), LA.inv(self.K_ZZ).transpose()]) \n",
    "    \n",
    "    def se_kernel(self, x, y):\n",
    "        if type(x) == np.ndarray and type(y) == np.ndarray:\n",
    "            return self.rbf_variance**2*exp(-0.5*LA.multi_dot([(x-y).transpose(), self.lambda_inv, (x-y)]))\n",
    "        \n",
    "    def se_kernel_01(self, x, y):\n",
    "        if type(x) == np.ndarray and type(y) == np.ndarray:\n",
    "            a = self.se_kernel(x, y)\n",
    "            b = np.dot(self.lambda_inv, (x-y).transpose())\n",
    "            return a*b\n",
    "                \n",
    "    def se_kernel_10(self, x, y):\n",
    "        if type(x) == np.ndarray and type(y) == np.ndarray:\n",
    "            a = self.se_kernel(x, y)\n",
    "            b = -np.dot(self.lambda_inv, (x-y))\n",
    "            return a*b\n",
    "        \n",
    "    def se_kernel_11(self, x, y):\n",
    "        if type(x) == np.ndarray and type(y) == np.ndarray:\n",
    "            l = len(x)\n",
    "            a = self.se_kernel(x,y)*np.eye(l)\n",
    "            b = np.dot(self.se_kernel_10(x,y).reshape(-1, 1), (x-y).reshape(1,-1))\n",
    "            return a + b\n",
    "\n",
    "    def predict(self, p, use_var = False):\n",
    "        if type(p) == np.ndarray:\n",
    "            K_star_Z = np.empty(self.N_ind)\n",
    "            for i in range(self.N_ind):\n",
    "                K_star_Z[i] = self.se_kernel(p, self.Z[i, :])\n",
    "            mean = np.dot(K_star_Z, self.alpha)\n",
    "            if use_var:\n",
    "                K_star = self.se_kernel(p, p)\n",
    "                K_Z_star = K_star_Z.transpose()\n",
    "                variance = K_star - LA.multi_dot([K_star_Z, self.beta, K_Z_star]) \\\n",
    "                    + self.noise_variance**2\n",
    "                return mean, variance\n",
    "            else: return mean\n",
    "    \n",
    "    def linearize(self, p, use_var = False):\n",
    "        if type(p) == np.ndarray:\n",
    "            K_star_Z = np.empty(self.N_ind)\n",
    "            K10_star_Z = np.empty((self.n, self.N_ind))\n",
    "            for i in range(self.N_ind):\n",
    "                K_star_Z[i] = self.se_kernel(p, self.Z[i, :])\n",
    "                K10_star_Z[:, i] = self.se_kernel_10(p, self.Z[i, :])\n",
    "            A = np.vstack([K_star_Z, K10_star_Z])\n",
    "            mx = np.dot(A, self.alpha)\n",
    "            if use_var: \n",
    "                K_star = self.se_kernel(p, p)\n",
    "                K01_star = self.se_kernel_01(p, p)\n",
    "                K10_star = self.se_kernel_10(p, p)\n",
    "                K11_star = self.se_kernel_11(p, p)\n",
    "\n",
    "                B = np.vstack([np.hstack([K_star, K01_star]), np.hstack([K10_star, K11_star])])\n",
    "                C = LA.multi_dot([A, self.beta, A.T])\n",
    "                Vx = B-C            \n",
    "                return mx, Vx\n",
    "            else: return mx"
   ]
  },
  {
   "cell_type": "code",
   "execution_count": 37,
   "metadata": {},
   "outputs": [],
   "source": [
    "# Load gp model from file, using linGP class\n",
    "m_dict = pickle.load(open(\"sparse_dx.pkl\", \"rb\"))\n",
    "gp_dx = linsparse_GP(m_dict)\n",
    "\n",
    "m_dict = pickle.load(open(\"sparse_dy.pkl\", \"rb\"))\n",
    "gp_dy = linsparse_GP(m_dict)\n",
    "\n",
    "m_dict = pickle.load(open(\"sparse_dth.pkl\", \"rb\"))\n",
    "gp_dth = linsparse_GP(m_dict)"
   ]
  },
  {
   "cell_type": "code",
   "execution_count": 38,
   "metadata": {},
   "outputs": [
    {
     "data": {
      "text/plain": [
       "array([[ 0.29450164],\n",
       "       [ 0.25689588],\n",
       "       [-0.00037243],\n",
       "       [ 0.1426474 ],\n",
       "       [-0.12452423]])"
      ]
     },
     "execution_count": 38,
     "metadata": {},
     "output_type": "execute_result"
    }
   ],
   "source": [
    "p = gp_dx.X[0,:]\n",
    "gp_dx.linearize(p)"
   ]
  },
  {
   "cell_type": "code",
   "execution_count": 39,
   "metadata": {},
   "outputs": [],
   "source": [
    "def vertical_reshape(v):\n",
    "    n_row, n_col = np.shape(v)\n",
    "    output = v[:,0].reshape(-1) \n",
    "    for i in range(1, n_col):\n",
    "        output = np.hstack([output, v[:,i].reshape(-1)])\n",
    "    return output"
   ]
  },
  {
   "cell_type": "code",
   "execution_count": 104,
   "metadata": {},
   "outputs": [],
   "source": [
    "class linGP_car:\n",
    "    T = 0.2; H = 10\n",
    "    lf = 0.16; lr = 0.17\n",
    "\n",
    "    v_min = 0; v_max = 2\n",
    "    de_min = -0.4; de_max = 0.4\n",
    "    Q = 0; R = 0\n",
    "    \n",
    "    J = 0; # Objective function\n",
    "    g = [] # Constraints\n",
    "    lbg = []; ubg = []\n",
    "    lbx = []; ubx = [] \n",
    "    thres = 0.001\n",
    "    \n",
    "    \n",
    "    def __init__(self, x0, GP_dx, GP_dy, GP_dth):\n",
    "        self.st = x0\n",
    "        self.input = np.array([0.0, 0.0])\n",
    "        self.gp_dx = GP_dx\n",
    "        self.gp_dy = GP_dy\n",
    "        self.gp_dth = GP_dth\n",
    "        self.ramp_v_min = -5*self.T; self.ramp_v_max = 5*self.T; \n",
    "        self.ramp_de_min = -np.pi*self.T; self.ramp_de_max = np.pi*self.T\n",
    "        \n",
    "        self.v_nom = np.zeros(self.H); self.de_nom = np.zeros(self.H)\n",
    "        self.x_nom = np.zeros(self.H+1); self.y_nom = np.zeros(self.H+1); self.th_nom = np.zeros(self.H+1) \n",
    "        self.m_dx = np.zeros((self.H,4)); self.m_dy = np.zeros((self.H,4)); self.m_dth = np.zeros((self.H,3))\n",
    "        \n",
    "        self.v_H = np.zeros(self.H); self.de_H = np.zeros(self.H)\n",
    "                        \n",
    "    def set_params(self, Q, R, ref):\n",
    "        self.Q = Q\n",
    "        self.R = R\n",
    "        self.ref = ref\n",
    "    \n",
    "    def objective(self, x, y, v, de, x_r, y_r):\n",
    "        obj = 0\n",
    "        for k in range (self.H):\n",
    "            obj += self.Q[0]*(x[k+1] - x_r[k])**2 + self.Q[1]*(y[k+1] - y_r[k])**2 \\\n",
    "                + self.R[0]*v[k]**2 + self.R[1]*de[k]**2\n",
    "        return obj  \n",
    "        \n",
    "    def update_linGP(self, v, de):\n",
    "        # Update linGP model (m_hat for mean) for dth and dx, dy\n",
    "        x = np.zeros(self.H+1); y = np.zeros(self.H+1); th = np.zeros(self.H+1) \n",
    "        x[0] = self.st[0]; y[0] = self.st[1]; th[0] = self.st[2]\n",
    "\n",
    "        for k in range(self.H):\n",
    "            xk = np.array([v[k], de[k]]) \n",
    "            m_dth = self.gp_dth.linearize(xk)\n",
    "            self.m_dth[k] = m_dth.reshape((-1,))\n",
    "            th[k+1] = th[k] + m_dth[0]\n",
    "        \n",
    "        for k in range(self.H):\n",
    "            xk = np.array([np.cos(th[k]), np.sin(th[k]), v[k], de[k]]) \n",
    "            m_dx = self.gp_dx.linearize(xk)  \n",
    "            m_dy = self.gp_dy.linearize(xk)\n",
    "            x[k+1] = x[k] + m_dx[0]\n",
    "            y[k+1] = y[k] + m_dy[0]\n",
    "            M = np.array([np.hstack([1, np.zeros(4)]), np.hstack([0, -xk[1], xk[0], np.zeros(2)]), \n",
    "              np.hstack([np.zeros(3), 1, 0]), np.hstack([np.zeros(4), 1])])\n",
    "            self.m_dx[k] = np.dot(M, m_dx.reshape((-1,)))\n",
    "            self.m_dy[k] = np.dot(M, m_dy.reshape((-1,))) \n",
    "            \n",
    "        self.v_nom = v; self.de_nom = de\n",
    "        self.x_nom = x; self.y_nom = y; self.th_nom = th    \n",
    "    \n",
    "    def simulate_linGP(self, dv, dde):\n",
    "        dx = np.zeros(self.H); dy = np.zeros(self.H); dth = np.zeros(self.H)\n",
    "        x = np.zeros(self.H+1); y = np.zeros(self.H+1); th = np.zeros(self.H+1) \n",
    "        x[0] = self.st[0]; y[0] = self.st[1]; th[0] = self.st[2]\n",
    "\n",
    "        for k in range(self.H):\n",
    "            dth[k] = self.m_dth[k,0] + self.m_dth[k,1]*dv[k] + self.m_dth[k,2]*dde[k]\n",
    "            th[k+1] = th[k] + dth[k]\n",
    "        \n",
    "        for k in range(self.H):\n",
    "            dx[k] = self.m_dx[k,0] + self.m_dx[k,1]*(th[k] - self.th_nom[k]) \\\n",
    "                    + self.m_dx[k,2]*dv[k] + self.m_dx[k,3]*dde[k]\n",
    "            dy[k] = self.m_dy[k,0] + self.m_dy[k,1]*(th[k] - self.th_nom[k]) \\\n",
    "                    + self.m_dy[k,2]*dv[k] + self.m_dy[k,3]*dde[k]\n",
    "            x[k+1] = x[k] + dx[k]\n",
    "            y[k+1] = y[k] + dy[k]\n",
    "        \n",
    "        return x, y, th\n",
    "            \n",
    "    def simulate_GP(self, v, de):\n",
    "        x = np.zeros(self.H+1); y = np.zeros(self.H+1); th = np.zeros(self.H+1) \n",
    "        x[0] = self.st[0]; y[0] = self.st[1]; th[0] = self.st[2]\n",
    "        for k in range(self.H):\n",
    "            xk = np.array([v[k], de[k]]) \n",
    "            th[k+1] = th[k] + self.gp_dth.predict(xk)\n",
    "        \n",
    "        for k in range(self.H):\n",
    "            xk = np.array([np.cos(th[k]), np.sin(th[k]), v[k], de[k]]) \n",
    "            x[k+1] = x[k] + self.gp_dx.predict(xk)\n",
    "            y[k+1] = y[k] + self.gp_dy.predict(xk)\n",
    "            \n",
    "        return x, y, th\n",
    "\n",
    "    def SCP_linGP(self, i, maxiters = 100, rho_min = 0.0, rho_max = inf, \\\n",
    "                  r0 = 0.0, r1 = 0.1, r2 = 0.2, b_fail = 0.5, b_succ = 2.0):\n",
    "        self.rho = 0.5\n",
    "        self.update_linGP(np.hstack([self.v_H[1:], self.v_H[0]]), np.hstack([self.de_H[1:], self.de_H[0]]))\n",
    "        x_ref = self.ref[0,i:i+self.H]; y_ref = self.ref[1,i:i+self.H]\n",
    "        J_exact = self.objective(self.x_nom, self.y_nom, self.v_nom, self.de_nom, x_ref, y_ref)\n",
    "        for j in range(maxiters):\n",
    "            dv_sol, dde_sol, v_sol, de_sol = self.solve_linGPMPC(i)\n",
    "            x_bar, y_bar, th_bar = self.simulate_GP(v_sol, de_sol)\n",
    "            x_til, y_til, th_til = self.simulate_linGP(dv_sol, dde_sol)\n",
    "            J_bar = self.objective(x_bar, y_bar, v_sol, de_sol, x_ref, y_ref)\n",
    "            J_til = self.objective(x_til, y_til, v_sol, de_sol, x_ref, y_ref)\n",
    "            dJ_bar = J_exact - J_bar; dJ_til = J_exact - J_til\n",
    "\n",
    "            if abs(dJ_til/J_exact) < self.thres: # stop and return solution\n",
    "                return v_sol, de_sol\n",
    "            else:\n",
    "                ratio = dJ_bar/dJ_til\n",
    "                if ratio > r0: # Accept solution\n",
    "                    self.update_linGP(v_sol, de_sol)\n",
    "                    J_exact = J_bar\n",
    "                    if ratio < r1: self.rho *= b_fail\n",
    "                    elif ratio > r2: self.rho *= b_succ\n",
    "                else: # Keep current solution \n",
    "                    self.rho *= b_fail\n",
    "                self.rho = max(rho_min, min(rho_max, self.rho))\n",
    "\n",
    "        return v_sol, de_sol\n",
    "        \n",
    "    def formulate_linGPMPC(self):    \n",
    "        self.dv = SX.sym('dv', self.H); self.dde = SX.sym('dde', self.H) # will be optimization variables\n",
    "        self.dx = SX.zeros(self.H); self.dy = SX.zeros(self.H); self.dth = SX.zeros(self.H)\n",
    "        self.x = SX.zeros(self.H+1); self.y = SX.zeros(self.H+1); self.th = SX.zeros(self.H+1)  \n",
    "        self.p1 = SX.sym('p1', 3)\n",
    "        self.p2 = SX.sym('p2', 2)\n",
    "        self.x[0] = self.p1[0]; self.y[0] = self.p1[1]; self.th[0] = self.p1[2]\n",
    "        self.px_r = SX.sym('px_r', self.H); self.py_r = SX.sym('py_r', self.H)\n",
    "        self.pv_n = SX.sym('pv_n', self.H); self.pde_n = SX.sym('pde_n', self.H) \n",
    "        self.pth_n = SX.sym('pth_n', self.H+1)\n",
    "        self.pm_dth = SX.sym('pm_dth', self.H, 3)\n",
    "        self.pm_dx = SX.sym('pm_dx', self.H, 4)\n",
    "        self.pm_dy = SX.sym('pm_dy', self.H, 4)\n",
    "\n",
    "        self.v = self.pv_n + self.dv; self.de = self.pde_n + self.dde\n",
    "        for k in range(self.H):\n",
    "            self.dth[k] = self.pm_dth[k,0] + self.pm_dth[k,1]*self.dv[k] + self.pm_dth[k,2]*self.dde[k]\n",
    "            self.th[k+1] = self.th[k] + self.dth[k]\n",
    "            \n",
    "        for k in range(self.H):\n",
    "            self.dx[k] = self.pm_dx[k,0] + self.pm_dx[k,1]*(self.th[k] - self.pth_n[k]) \\\n",
    "                + self.pm_dx[k,2]*self.dv[k] + self.pm_dx[k,3]*self.dde[k]\n",
    "            self.dy[k] = self.pm_dy[k,0] + self.pm_dy[k,1]*(self.th[k] - self.pth_n[k]) \\\n",
    "                + self.pm_dy[k,2]*self.dv[k] + self.pm_dy[k,3]*self.dde[k]\n",
    "            self.x[k+1] = self.x[k] + self.dx[k] \n",
    "            self.y[k+1] = self.y[k] + self.dy[k]\n",
    "            \n",
    "        self.J = self.objective(self.x, self.y, self.v, self.de, self.px_r, self.py_r) \n",
    "        self.g = []\n",
    "        self.ubg = []; self.lbg = []\n",
    "        \n",
    "        for k in range(self.H):\n",
    "            self.lbg += [self.v_min, self.de_min]; self.ubg += [self.v_max, self.de_max]  \n",
    "            self.g += [self.v[k]]; self.g += [self.de[k]]\n",
    "            self.lbg += [self.ramp_v_min, self.ramp_de_min]; self.ubg += [self.ramp_v_max, self.ramp_de_max]  \n",
    "            if k == 0:\n",
    "                self.g += [self.v[k] - self.p2[0]]; self.g += [self.de[k] - self.p2[1]]\n",
    "            else:\n",
    "                self.g += [self.v[k] - self.v[k-1]]; self.g += [self.de[k] - self.de[k-1]]   \n",
    "        \n",
    "        self.qp = {'x':vertcat(self.dv, self.dde), 'f':self.J, 'g': vertcat(*self.g), \n",
    "                  'p': vertcat(self.p1, self.p2, self.px_r, self.py_r, \\\n",
    "                       self.pv_n, self.pde_n, self.pth_n, reshape(self.pm_dth, -1, 1), \\\n",
    "                       reshape(self.pm_dx, -1, 1), reshape(self.pm_dy, -1, 1))}\n",
    "        self.S = qpsol('S', 'qpoases', self.qp, {'printLevel':'none'})\n",
    "        \n",
    "    def solve_linGPMPC(self, i):  \n",
    "        self.lbx = [-self.rho]*self.H + [-self.rho]*self.H; self.ubx = [self.rho]*self.H + [self.rho]*self.H\n",
    "        self.p = self.st.tolist() + self.input.tolist() + self.ref[0,i:i+self.H].tolist() \\\n",
    "            + self.ref[1,i:i+self.H].tolist() + self.v_nom.tolist() + self.de_nom.tolist() \\\n",
    "            + self.th_nom.tolist() + vertical_reshape(self.m_dth).tolist() + vertical_reshape(self.m_dx).tolist() \\\n",
    "            + vertical_reshape(self.m_dy).tolist()\n",
    "        sol = self.S(lbg = self.lbg, ubg = self.ubg, lbx = self.lbx, ubx = self.ubx, p = self.p)\n",
    "        sol = sol['x']\n",
    "        dv_sol = sol[0:self.H].full().reshape(self.H) \n",
    "        dde_sol = sol[self.H:].full().reshape(self.H)\n",
    "        v_sol = dv_sol + self.v_nom\n",
    "        de_sol = dde_sol + self.de_nom\n",
    "\n",
    "        return dv_sol, dde_sol, v_sol, de_sol\n",
    "        \n",
    "    def control(self, i):\n",
    "        self.v_H, self.de_H = self.SCP_linGP(i)\n",
    "        return np.array([self.v_H[0], self.de_H[0]])\n",
    "    \n",
    "    def car_model(self, z, t, u):\n",
    "        phi = z[2]\n",
    "        v = u[0]; delta = u[1]\n",
    "\n",
    "        beta = np.arctan(self.lr/(self.lf+self.lr)*np.tan(delta))\n",
    "        dz = np.zeros(3)\n",
    "        dz[0] = v*np.cos(phi+beta)\n",
    "        dz[1] = v*np.sin(phi+beta)\n",
    "        dz[2] = v/self.lr*np.sin(beta)\n",
    "        return dz\n",
    "        \n",
    "    def run(self, u):\n",
    "        tspan = np.linspace(0, self.T, 3)\n",
    "        y = odeint(self.car_model, self.st, tspan, args=(u,)) \n",
    "        self.st = y[-1,]\n",
    "        self.input = u\n",
    "        "
   ]
  },
  {
   "cell_type": "code",
   "execution_count": 105,
   "metadata": {},
   "outputs": [
    {
     "data": {
      "text/plain": [
       "[<matplotlib.lines.Line2D at 0x24f10a5d708>]"
      ]
     },
     "execution_count": 105,
     "metadata": {},
     "output_type": "execute_result"
    },
    {
     "data": {
      "image/png": "[encoded data removed]",
      "text/plain": [
       "<Figure size 432x288 with 1 Axes>"
      ]
     },
     "metadata": {
      "needs_background": "light"
     },
     "output_type": "display_data"
    }
   ],
   "source": [
    "data = genfromtxt('data-for-mpc.csv', delimiter=',')\n",
    "x_list = data[::5, 0] \n",
    "y_list = data[::5, 1]\n",
    "L = len(x_list)\n",
    "plt.plot(x_list, y_list)"
   ]
  },
  {
   "cell_type": "code",
   "execution_count": 106,
   "metadata": {},
   "outputs": [],
   "source": [
    "car = linGP_car(np.zeros((3)), gp_dx, gp_dy, gp_dth)\n",
    "ref = np.hstack([np.vstack([x_list, y_list]), [[x_list[-1]], [y_list[-1]]]*np.ones(car.H)])\n",
    "# ref = np.array([np.linspace(0, 20, 201), np.linspace(0, 20, 201)])\n",
    "car.set_params(np.array([1, 1]), np.array([0.01, 1]), ref)\n",
    "car.formulate_linGPMPC()"
   ]
  },
  {
   "cell_type": "code",
   "execution_count": 107,
   "metadata": {},
   "outputs": [],
   "source": [
    "t_hist = np.empty(L)\n",
    "X_hist = np.empty((3,L+1))\n",
    "X_hist[:,0] = car.st\n",
    "for i in range(L):\n",
    "    start = time.time()\n",
    "    u = car.control(i)\n",
    "    end = time.time()\n",
    "    t_hist[i] = (end - start)\n",
    "    car.run(u)\n",
    "    X_hist[:,i+1] = car.st"
   ]
  },
  {
   "cell_type": "code",
   "execution_count": 108,
   "metadata": {},
   "outputs": [
    {
     "data": {
      "text/plain": [
       "[<matplotlib.lines.Line2D at 0x24f11f8d6c8>]"
      ]
     },
     "execution_count": 108,
     "metadata": {},
     "output_type": "execute_result"
    },
    {
     "data": {
      "image/png": "[encoded data removed]",
      "text/plain": [
       "<Figure size 432x288 with 1 Axes>"
      ]
     },
     "metadata": {
      "needs_background": "light"
     },
     "output_type": "display_data"
    }
   ],
   "source": [
    "plt.plot(X_hist[0,:], X_hist[1,])\n",
    "plt.plot(car.ref[0,0:L], car.ref[1,0:L])"
   ]
  },
  {
   "cell_type": "code",
   "execution_count": 109,
   "metadata": {
    "scrolled": true
   },
   "outputs": [
    {
     "data": {
      "text/plain": [
       "[<matplotlib.lines.Line2D at 0x24f109e9ac8>]"
      ]
     },
     "execution_count": 109,
     "metadata": {},
     "output_type": "execute_result"
    },
    {
     "data": {
      "image/png": "[encoded data removed]",
      "text/plain": [
       "<Figure size 432x288 with 1 Axes>"
      ]
     },
     "metadata": {
      "needs_background": "light"
     },
     "output_type": "display_data"
    }
   ],
   "source": [
    "plt.plot(t_hist)"
   ]
  },
  {
   "cell_type": "code",
   "execution_count": null,
   "metadata": {},
   "outputs": [],
   "source": []
  },
  {
   "cell_type": "code",
   "execution_count": null,
   "metadata": {},
   "outputs": [],
   "source": []
  },
  {
   "cell_type": "code",
   "execution_count": null,
   "metadata": {},
   "outputs": [],
   "source": []
  },
  {
   "cell_type": "code",
   "execution_count": null,
   "metadata": {},
   "outputs": [],
   "source": []
  },
  {
   "cell_type": "code",
   "execution_count": null,
   "metadata": {},
   "outputs": [],
   "source": []
  },
  {
   "cell_type": "code",
   "execution_count": null,
   "metadata": {},
   "outputs": [],
   "source": []
  },
  {
   "cell_type": "code",
   "execution_count": null,
   "metadata": {},
   "outputs": [],
   "source": []
  },
  {
   "cell_type": "code",
   "execution_count": 59,
   "metadata": {},
   "outputs": [],
   "source": [
    "from numba import jit\n",
    "import numba "
   ]
  },
  {
   "cell_type": "code",
   "execution_count": 101,
   "metadata": {},
   "outputs": [],
   "source": [
    "@jit(nopython=True)\n",
    "def se_kernel(x, y, v, lamda):\n",
    "    for i in range(1000000):\n",
    "        v = v**2*np.exp(-0.5*np.dot((x-y).transpose(), np.dot(lamda, (x-y))))\n",
    "    return v**2*np.exp(-0.5*np.dot((x-y).transpose(), np.dot(lamda, (x-y))))"
   ]
  },
  {
   "cell_type": "code",
   "execution_count": null,
   "metadata": {},
   "outputs": [],
   "source": []
  },
  {
   "cell_type": "code",
   "execution_count": 102,
   "metadata": {},
   "outputs": [
    {
     "name": "stdout",
     "output_type": "stream",
     "text": [
      "Elapsed (with compilation) = 0.8010237216949463\n",
      "Elapsed (after compilation) = 0.33304619789123535\n"
     ]
    }
   ],
   "source": [
    "start = time.time()\n",
    "se_kernel(gp_dx.X[0, :], gp_dx.X[0, :], gp_dx.rbf_variance, gp_dx.lambda_inv)\n",
    "end = time.time()\n",
    "print(\"Elapsed (with compilation) = %s\" % (end - start))\n",
    "\n",
    "# NOW THE FUNCTION IS COMPILED, RE-TIME IT EXECUTING FROM CACHE\n",
    "start = time.time()\n",
    "se_kernel(gp_dx.X[0, :], gp_dx.X[0, :], gp_dx.rbf_variance, gp_dx.lambda_inv)\n",
    "end = time.time()\n",
    "print(\"Elapsed (after compilation) = %s\" % (end - start))"
   ]
  },
  {
   "cell_type": "code",
   "execution_count": 103,
   "metadata": {},
   "outputs": [
    {
     "name": "stdout",
     "output_type": "stream",
     "text": [
      "Elapsed (with compilation) = 3.259373664855957\n"
     ]
    }
   ],
   "source": [
    "def se_kernel1(x, y, v, lamda):\n",
    "    for i in range(1000000):\n",
    "        v = v**2*np.exp(-0.5*np.dot((x-y).transpose(), np.dot(lamda, (x-y))))\n",
    "    return v**2*np.exp(-0.5*np.dot((x-y).transpose(), np.dot(lamda, (x-y))))\n",
    "\n",
    "start = time.time()\n",
    "se_kernel1(gp_dx.X[0, :], gp_dx.X[0, :], gp_dx.rbf_variance, gp_dx.lambda_inv)\n",
    "end = time.time()\n",
    "print(\"Elapsed (with compilation) = %s\" % (end - start))"
   ]
  },
  {
   "cell_type": "code",
   "execution_count": null,
   "metadata": {},
   "outputs": [],
   "source": []
  },
  {
   "cell_type": "code",
   "execution_count": null,
   "metadata": {},
   "outputs": [],
   "source": []
  },
  {
   "cell_type": "code",
   "execution_count": null,
   "metadata": {},
   "outputs": [],
   "source": []
  },
  {
   "cell_type": "code",
   "execution_count": null,
   "metadata": {},
   "outputs": [],
   "source": []
  }
 ],
 "metadata": {
  "kernelspec": {
   "display_name": "Python 3",
   "language": "python",
   "name": "python3"
  },
  "language_info": {
   "codemirror_mode": {
    "name": "ipython",
    "version": 3
   },
   "file_extension": ".py",
   "mimetype": "text/x-python",
   "name": "python",
   "nbconvert_exporter": "python",
   "pygments_lexer": "ipython3",
   "version": "3.7.4"
  }
 },
 "nbformat": 4,
 "nbformat_minor": 2
}
